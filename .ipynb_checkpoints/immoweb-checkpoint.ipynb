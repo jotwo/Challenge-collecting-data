{
 "cells": [
  {
   "cell_type": "code",
   "execution_count": 93,
   "metadata": {},
   "outputs": [],
   "source": [
    "from selenium import webdriver\n",
    "import requests\n",
    "from parsel import Selector\n",
    "from bs4 import BeautifulSoup\n",
    "import re\n",
    "import pandas as pd"
   ]
  },
  {
   "cell_type": "markdown",
   "metadata": {},
   "source": [
    "## 1) We obtain 10000 url of the properties with web driver."
   ]
  },
  {
   "cell_type": "code",
   "execution_count": 94,
   "metadata": {},
   "outputs": [
    {
     "name": "stdout",
     "output_type": "stream",
     "text": [
      "https://www.immoweb.be/en/classified/house/for-sale/beersel-alsemberg/1652/8898187?searchId=5f6d361cca5b3\n",
      "2\n"
     ]
    }
   ],
   "source": [
    "driver = webdriver.Chrome(executable_path='chromedriver.exe')\n",
    "\n",
    "# We add url of each house in 333 page in immoweb to houses_url list.\n",
    "houses_url = []\n",
    "\n",
    "for i in range(1, 3):\n",
    "    # We used 'i' to build urls of the 333 page in immoweb.\n",
    "    #   So, we can reach 333 pages with for loop.\n",
    "    apikey = str(i)+'&orderBy=relevance'\n",
    "    url = 'https://www.immoweb.be/en/search/house/for-sale?countries=BE&page='+apikey\n",
    "\n",
    "    # An implicit wait tells WebDriver to poll the DOM for a\n",
    "    #   certain amount of time when trying to find any element \n",
    "    #     (or elements) not immediately available. \n",
    "    driver.implicitly_wait(10)\n",
    "    \n",
    "    # The first thing you’ll want to do with WebDriver is navigate\n",
    "    #   to a link. The normal way to do this is by calling get method:    \n",
    "    driver.get(url)\n",
    "\n",
    "    # Selector` allows you to select parts of an XML or HTML text using CSS\n",
    "    #   or XPath expressions and extract data from it.\n",
    "    sel = Selector(text=driver.page_source) \n",
    "\n",
    "    # xpath query of the houses in the immoweb page\n",
    "    xpath_houeses = '//*[@id=\"main-content\"]/li//h2//a/@href'\n",
    "    \n",
    "    # Find nodes matching the xpath ``query`` and return the result\n",
    "    page_houses_url = sel.xpath(xpath_houeses).extract()\n",
    "    \n",
    "    # There are approximately 30 houses in each page.\n",
    "    # We add each page url list to houses_url like matrix.\n",
    "    houses_url.append(page_houses_url)\n",
    "\n",
    "print(houses_url[1][4])\n",
    "print(len(houses_url))"
   ]
  },
  {
   "cell_type": "code",
   "execution_count": 98,
   "metadata": {},
   "outputs": [],
   "source": [
    "with open('houses_apartments_urls.csv', 'w') as file:\n",
    "    for page_url in houses_url:\n",
    "        for url in page_url:\n",
    "            file.write(url+'\\n')"
   ]
  },
  {
   "cell_type": "code",
   "execution_count": 99,
   "metadata": {},
   "outputs": [
    {
     "name": "stdout",
     "output_type": "stream",
     "text": [
      "https://www.immoweb.be/en/classified/new-real-estate-project-apartments/for-sale/bertrix/6880/8936203?searchId=5f6d36fc607cc\n",
      "2\n"
     ]
    }
   ],
   "source": [
    "# We add url of each house in 333 page in immoweb to houses_url list.\n",
    "apartments_url = []\n",
    "\n",
    "for i in range(1, 3):\n",
    "    # We used 'i' to build urls of the 333 page in immoweb.\n",
    "    #   So, we can reach 333 pages with for loop.\n",
    "    apikey = str(i)+'&orderBy=relevance'\n",
    "    url = 'https://www.immoweb.be/en/search/apartment/for-sale?countries=BE&page='+apikey\n",
    "\n",
    "    # An implicit wait tells WebDriver to poll the DOM for a\n",
    "    #   certain amount of time when trying to find any element \n",
    "    #     (or elements) not immediately available. \n",
    "    driver.implicitly_wait(10)\n",
    "    \n",
    "    # The first thing you’ll want to do with WebDriver is navigate\n",
    "    #   to a link. The normal way to do this is by calling get method:    \n",
    "    driver.get(url)\n",
    "\n",
    "    # Selector` allows you to select parts of an XML or HTML text using CSS\n",
    "    #   or XPath expressions and extract data from it.\n",
    "    sel = Selector(text=driver.page_source) \n",
    "\n",
    "    # xpath query of the houses in the immoweb page\n",
    "    xpath_apartments = '//*[@id=\"main-content\"]/li//h2//a/@href'\n",
    "    \n",
    "    # Find nodes matching the xpath ``query`` and return the result\n",
    "    page_apartments_url = sel.xpath(xpath_apartments).extract()\n",
    "    \n",
    "    # There are approximately 30 houses in each page.\n",
    "    # We add each page url list to houses_url like matrix.\n",
    "    apartments_url.append(page_apartments_url)\n",
    "\n",
    "print(apartments_url[1][4])\n",
    "print(len(apartments_url))"
   ]
  },
  {
   "cell_type": "code",
   "execution_count": 100,
   "metadata": {},
   "outputs": [],
   "source": [
    "with open('houses_apartments_urls.csv', 'a') as file:\n",
    "    for page_url in apartments_url:\n",
    "        for url in page_url:\n",
    "            file.write(url+'\\n')"
   ]
  },
  {
   "cell_type": "markdown",
   "metadata": {},
   "source": [
    "## 2) We scrape all data of each house with requests"
   ]
  },
  {
   "cell_type": "markdown",
   "metadata": {},
   "source": [
    "#### Each url represents a house and a house have many attributes like localty, type_property etc.  "
   ]
  },
  {
   "cell_type": "code",
   "execution_count": 210,
   "metadata": {},
   "outputs": [],
   "source": [
    "import re\n",
    "class HouseApartmentScraping:\n",
    "    def __init__(self, url, types):\n",
    "        self.url = url\n",
    "        print(self.url)\n",
    "        self.type_property = types\n",
    "        \n",
    "        self.html = str(requests.get(self.url).content)\n",
    "        self.sel = Selector(text=self.html)\n",
    "        self.soup = BeautifulSoup(self.html)\n",
    "        \n",
    "        self.general = self.general()\n",
    "        self.interior = self.interior()\n",
    "        self.exterior = self.exterior()\n",
    "        \n",
    "        self.locality = self.locality()\n",
    "        self.subtype = self.subtype()\n",
    "        self.price = self.price()\n",
    "        self.type_sale = self.type_sale()\n",
    "        self.num_rooms = self.num_rooms()\n",
    "        self.area = self.area()\n",
    "        self.kitchen = self.kitchen()\n",
    "        self.furnished = self.furnished()\n",
    "        self.fire = self.fire()\n",
    "        self.terrace_area = self.terrace_area()\n",
    "        self.garden_area = self.garden_area()\n",
    "        self.land = self.land()\n",
    "        self.land_plot = self.land_plot()\n",
    "        self.num_facade = self.num_facade()\n",
    "        self.pool = self.pool()\n",
    "        self.state = self.state()\n",
    "        \n",
    "    def description(self):    \n",
    "        descriptions_xpath = '/html/body/div[1]/div[2]/div/div/main/div[2]/div[2]/div/div/div//text()'\n",
    "        descriptions = self.sel.xpath(descriptions_xpath).extract()\n",
    "        descriptions_list = []\n",
    "        for description in descriptions:\n",
    "            description = description.replace('\\\\n', '').strip()\n",
    "            descriptions_list.append(description)\n",
    "        description = \" \".join(descriptions_list)\n",
    "        return description \n",
    "        \n",
    "    def general(self):\n",
    "        general_keys_xpath = '/html/body/div[1]/div[2]/div/div/main/div[2]/div[3]/div/div/div/iw-accordion/template/table/tbody/tr/th/text()'\n",
    "        general_keys = self.format_items(general_keys_xpath)\n",
    "        general_values_xpath = '/html/body/div[1]/div[2]/div/div/main/div[2]/div[3]/div/div/div/iw-accordion/template/table/tbody/tr/td/text()'\n",
    "        general_values = self.format_items(general_values_xpath)\n",
    "        general_dict = self.format_dict(general_keys, general_values)\n",
    "        return general_dict\n",
    "\n",
    "    def interior(self):\n",
    "        interior_keys_xpath = '/html/body/div[1]/div[2]/div/div/main/div[2]/div[4]/div/div/div/iw-accordion/template/table/tbody/tr/th/text()'\n",
    "        interior_keys = self.format_items(interior_keys_xpath)\n",
    "        interior_values_xpath = '/html/body/div[1]/div[2]/div/div/main/div[2]/div[4]/div/div/div/iw-accordion/template/table/tbody/tr/td/text()'\n",
    "        interior_values = self.format_items(interior_values_xpath)\n",
    "        interior_dict = self.format_dict(interior_keys, interior_values)\n",
    "        return interior_dict\n",
    "        \n",
    "    def exterior(self):\n",
    "        exterior_keys_xpath = '/html/body/div[1]/div[2]/div/div/main/div[2]/div[5]/div/div/div/iw-accordion/template/table/tbody/tr/th/text()'\n",
    "        exterior_keys = self.format_items(exterior_keys_xpath)\n",
    "        exterior_values_xpath = '/html/body/div[1]/div[2]/div/div/main/div[2]/div[5]/div/div/div/iw-accordion/template/table/tbody/tr/td/text()'\n",
    "        exterior_values = self.format_items(exterior_values_xpath)\n",
    "        exterior_dict = self.format_dict(exterior_keys, exterior_values)\n",
    "        return exterior_dict           \n",
    "\n",
    "    def format_items(self, xpaths):\n",
    "        format_items = self.sel.xpath(xpaths).extract()\n",
    "        format_list = []\n",
    "        for format_item in format_items:\n",
    "            format_item = format_item.replace('\\\\n', '').strip()\n",
    "            if format_item:\n",
    "                format_list.append(format_item)  \n",
    "        return format_list\n",
    "    \n",
    "    def format_dict(self, keys, values):\n",
    "        format_dict = {}\n",
    "        for i in range(len(keys)):\n",
    "            format_dict[keys[i]] = values[i]\n",
    "        return format_dict \n",
    "        \n",
    "    def locality(self):\n",
    "        try:\n",
    "            locality_values_xpath = '/html/body/div[1]/div[2]/div/div/main/div[3]/section/div/iw-accordion/template[2]/div/div/div/table/tbody/tr[1]/td/text()'\n",
    "            locality_values = self.sel.xpath(locality_values_xpath).extract()\n",
    "            locality_values = locality_values[1].replace('\\\\n', '').strip()\n",
    "            locality_values = re.findall('\\d+', locality_values)\n",
    "            return locality_values[0]\n",
    "        except:\n",
    "            return None\n",
    "    \n",
    "    def subtype(self):\n",
    "        return None\n",
    "    \n",
    "    def price(self):\n",
    "        try:\n",
    "            price_values_xpath = '/html/body/div[1]/div[2]/div/div/main/div[2]/div[8]/div/div/div/iw-accordion/template/table/tbody/tr[1]/td/span[2]/text()'\n",
    "            price_values = self.sel.xpath(price_values_xpath).extract()\n",
    "            \n",
    "            if len(price_values) == 0:\n",
    "                price_values_xpath = '/html/body/div[1]/div[2]/div/div/main/div[2]/div[9]/div/div/div/iw-accordion/template/table/tbody/tr[1]/td/span[2]/text()'\n",
    "                price_values = self.sel.xpath(price_values_xpath).extract()\n",
    "            price_values = re.findall('\\d+', price_values[0]) \n",
    "            price_values = int(price_values[0])\n",
    "            return price_values\n",
    "        except:\n",
    "            return None\n",
    "    \n",
    "    def type_sale(self):\n",
    "        return None\n",
    "    \n",
    "    def num_rooms(self):\n",
    "        try:\n",
    "            return int(self.interior['Bedrooms'])\n",
    "        except:\n",
    "            return None\n",
    "    \n",
    "    def area(self):\n",
    "        try: \n",
    "            area = self.interior['Living area']\n",
    "            return int(area)\n",
    "        except:\n",
    "            return None\n",
    "    \n",
    "    def kitchen(self):\n",
    "        try: \n",
    "            kitchen_type = self.interior['Kitchen type']\n",
    "            if kitchen_type == 'Installed':\n",
    "                return 1\n",
    "            else:\n",
    "                return 0\n",
    "        except:\n",
    "            return None\n",
    "        \n",
    "    def furnished(self):\n",
    "        try:\n",
    "            furnished = self.interior['Furnished']\n",
    "            if furnished == 'Yes':\n",
    "                return 1\n",
    "            else:\n",
    "                return 0\n",
    "        except:\n",
    "            return None\n",
    "    \n",
    "    def fire(self):\n",
    "        try:\n",
    "            fire = self.interior['Fireplace']\n",
    "            if fire:\n",
    "                return 1\n",
    "            else:\n",
    "                return 0\n",
    "        except:\n",
    "            return None\n",
    "    \n",
    "    def terrace_area(self):\n",
    "        try:\n",
    "            terrace_area = int(self.exterior['Terrace surface'])\n",
    "            return terrace_area\n",
    "        except:\n",
    "            return None\n",
    "    \n",
    "    def garden_area(self):\n",
    "        try: \n",
    "            garden_area = int(self.exterior['Garden surface'])\n",
    "            return garden_area    \n",
    "        except:\n",
    "            return None\n",
    "    \n",
    "    def land(self):\n",
    "        return None\n",
    "    \n",
    "    def land_plot(self):\n",
    "        try:\n",
    "            land_plot = int(self.exterior['Surface of the plot'])\n",
    "            return land_plot \n",
    "        except:\n",
    "            return None\n",
    "    \n",
    "    def num_facade(self):\n",
    "        try:\n",
    "            general = self.general\n",
    "            num_facades = general['Facades']\n",
    "            if num_facades:\n",
    "                return int(num_facades)\n",
    "        except:\n",
    "            return None\n",
    "    \n",
    "    def pool(self):\n",
    "        swim_regex = re.findall('swimming pool', self.html)\n",
    "        if swim_regex:\n",
    "            return 1\n",
    "        else:\n",
    "            return 0\n",
    "        \n",
    "    def state(self): \n",
    "        try:\n",
    "            return self.general['Building condition']\n",
    "        except:\n",
    "            return None"
   ]
  },
  {
   "cell_type": "markdown",
   "metadata": {},
   "source": [
    "####       We collect all data in the houses_dict."
   ]
  },
  {
   "cell_type": "code",
   "execution_count": 211,
   "metadata": {},
   "outputs": [
    {
     "name": "stdout",
     "output_type": "stream",
     "text": [
      "https://www.immoweb.be/en/classified/house/for-sale/woluwe-saint-pierre/1150/8856902?searchId=5f6d360ac959b\n",
      "https://www.immoweb.be/en/classified/house/for-sale/schaerbeek/1030/8774810?searchId=5f6d361cca5b3\n"
     ]
    }
   ],
   "source": [
    "from collections import defaultdict\n",
    "houses_apartments_dict = defaultdict(list)\n",
    "\n",
    "for page_list in houses_url:\n",
    "    for url_a_house in page_list[:1]:\n",
    "        \n",
    "        houses_class = HouseApartmentScraping(url_a_house, 'House')\n",
    "        \n",
    "        houses_apartments_dict['Locality'].append(houses_class.locality)\n",
    "        houses_apartments_dict['Type of property'].append(houses_class.type_property)\n",
    "        houses_apartments_dict['Subtype of property'].append(houses_class.subtype)\n",
    "        houses_apartments_dict['Price'].append(houses_class.price)\n",
    "        houses_apartments_dict['Type of sale'].append(houses_class.type_sale)\n",
    "        houses_apartments_dict['Number of rooms'].append(houses_class.num_rooms)\n",
    "        houses_apartments_dict['Area'].append(houses_class.area)\n",
    "        houses_apartments_dict['Kitchen'].append(houses_class.kitchen)\n",
    "        houses_apartments_dict['Furnished'].append(houses_class.furnished)\n",
    "        houses_apartments_dict['Open fire'].append(houses_class.fire)\n",
    "        houses_apartments_dict['Terrace'].append(houses_class.terrace_area)\n",
    "        houses_apartments_dict['Garden'].append(houses_class.garden_area)\n",
    "        houses_apartments_dict['Surface of the land'].append(houses_class.land)\n",
    "        houses_apartments_dict['Surface area of the plot of land'].append(houses_class.land_plot)\n",
    "        houses_apartments_dict['Number of facades'].append(houses_class.num_facade)\n",
    "        houses_apartments_dict['Swimming pool'].append(houses_class.pool)\n",
    "        houses_apartments_dict['State of the building'].append(houses_class.state)"
   ]
  },
  {
   "cell_type": "code",
   "execution_count": 212,
   "metadata": {},
   "outputs": [
    {
     "name": "stdout",
     "output_type": "stream",
     "text": [
      "https://www.immoweb.be/en/classified/apartment/for-sale/auderghem/1160/8899851?searchId=5f6d36f4921d4\n",
      "https://www.immoweb.be/en/classified/apartment/for-sale/brussels-city/1000/8900856?searchId=5f6d36fc607cc\n"
     ]
    }
   ],
   "source": [
    "for page_list in apartments_url:\n",
    "    for url_an_apartment in page_list[:1]:\n",
    "        \n",
    "        apartments_class = HouseApartmentScraping(url_an_apartment, 'Apartment')\n",
    "        \n",
    "        houses_apartments_dict['Locality'].append(apartments_class.locality)\n",
    "        houses_apartments_dict['Type of property'].append(apartments_class.type_property)\n",
    "        houses_apartments_dict['Subtype of property'].append(apartments_class.subtype)\n",
    "        houses_apartments_dict['Price'].append(apartments_class.price)\n",
    "        houses_apartments_dict['Type of sale'].append(apartments_class.type_sale)\n",
    "        houses_apartments_dict['Number of rooms'].append(apartments_class.num_rooms)\n",
    "        houses_apartments_dict['Area'].append(apartments_class.area)\n",
    "        houses_apartments_dict['Kitchen'].append(apartments_class.kitchen)\n",
    "        houses_apartments_dict['Furnished'].append(apartments_class.furnished)\n",
    "        houses_apartments_dict['Open fire'].append(apartments_class.fire)\n",
    "        houses_apartments_dict['Terrace'].append(apartments_class.terrace_area)\n",
    "        houses_apartments_dict['Garden'].append(apartments_class.garden_area)\n",
    "        houses_apartments_dict['Surface of the land'].append(apartments_class.land)\n",
    "        houses_apartments_dict['Surface area of the plot of land'].append(apartments_class.land_plot)\n",
    "        houses_apartments_dict['Number of facades'].append(apartments_class.num_facade)\n",
    "        houses_apartments_dict['Swimming pool'].append(apartments_class.pool)\n",
    "        houses_apartments_dict['State of the building'].append(apartments_class.state)"
   ]
  },
  {
   "cell_type": "markdown",
   "metadata": {},
   "source": [
    "## 3) We store all data to a csv file with dataframe."
   ]
  },
  {
   "cell_type": "code",
   "execution_count": 213,
   "metadata": {},
   "outputs": [],
   "source": [
    "df = pd.DataFrame(houses_apartments_dict)\n",
    "df.to_csv('all_data_of_the_houses.csv')"
   ]
  },
  {
   "cell_type": "code",
   "execution_count": 214,
   "metadata": {},
   "outputs": [
    {
     "data": {
      "text/html": [
       "<div>\n",
       "<style scoped>\n",
       "    .dataframe tbody tr th:only-of-type {\n",
       "        vertical-align: middle;\n",
       "    }\n",
       "\n",
       "    .dataframe tbody tr th {\n",
       "        vertical-align: top;\n",
       "    }\n",
       "\n",
       "    .dataframe thead th {\n",
       "        text-align: right;\n",
       "    }\n",
       "</style>\n",
       "<table border=\"1\" class=\"dataframe\">\n",
       "  <thead>\n",
       "    <tr style=\"text-align: right;\">\n",
       "      <th></th>\n",
       "      <th>Locality</th>\n",
       "      <th>Type of property</th>\n",
       "      <th>Subtype of property</th>\n",
       "      <th>Price</th>\n",
       "      <th>Type of sale</th>\n",
       "      <th>Number of rooms</th>\n",
       "      <th>Area</th>\n",
       "      <th>Kitchen</th>\n",
       "      <th>Furnished</th>\n",
       "      <th>Open fire</th>\n",
       "      <th>Terrace</th>\n",
       "      <th>Garden</th>\n",
       "      <th>Surface of the land</th>\n",
       "      <th>Surface area of the plot of land</th>\n",
       "      <th>Number of facades</th>\n",
       "      <th>Swimming pool</th>\n",
       "      <th>State of the building</th>\n",
       "    </tr>\n",
       "  </thead>\n",
       "  <tbody>\n",
       "    <tr>\n",
       "      <th>0</th>\n",
       "      <td>1150</td>\n",
       "      <td>House</td>\n",
       "      <td>None</td>\n",
       "      <td>990000</td>\n",
       "      <td>None</td>\n",
       "      <td>6</td>\n",
       "      <td>485</td>\n",
       "      <td>0</td>\n",
       "      <td>None</td>\n",
       "      <td>NaN</td>\n",
       "      <td>16</td>\n",
       "      <td>None</td>\n",
       "      <td>None</td>\n",
       "      <td>251.0</td>\n",
       "      <td>2</td>\n",
       "      <td>0</td>\n",
       "      <td>As new</td>\n",
       "    </tr>\n",
       "    <tr>\n",
       "      <th>1</th>\n",
       "      <td>1040</td>\n",
       "      <td>House</td>\n",
       "      <td>None</td>\n",
       "      <td>500000</td>\n",
       "      <td>None</td>\n",
       "      <td>7</td>\n",
       "      <td>298</td>\n",
       "      <td>0</td>\n",
       "      <td>None</td>\n",
       "      <td>NaN</td>\n",
       "      <td>28</td>\n",
       "      <td>None</td>\n",
       "      <td>None</td>\n",
       "      <td>90.0</td>\n",
       "      <td>2</td>\n",
       "      <td>0</td>\n",
       "      <td>Good</td>\n",
       "    </tr>\n",
       "    <tr>\n",
       "      <th>2</th>\n",
       "      <td>1180</td>\n",
       "      <td>Apartment</td>\n",
       "      <td>None</td>\n",
       "      <td>380000</td>\n",
       "      <td>None</td>\n",
       "      <td>2</td>\n",
       "      <td>87</td>\n",
       "      <td>0</td>\n",
       "      <td>None</td>\n",
       "      <td>NaN</td>\n",
       "      <td>13</td>\n",
       "      <td>None</td>\n",
       "      <td>None</td>\n",
       "      <td>NaN</td>\n",
       "      <td>2</td>\n",
       "      <td>0</td>\n",
       "      <td>As new</td>\n",
       "    </tr>\n",
       "    <tr>\n",
       "      <th>3</th>\n",
       "      <td>1050</td>\n",
       "      <td>Apartment</td>\n",
       "      <td>None</td>\n",
       "      <td>1795000</td>\n",
       "      <td>None</td>\n",
       "      <td>4</td>\n",
       "      <td>650</td>\n",
       "      <td>0</td>\n",
       "      <td>None</td>\n",
       "      <td>1.0</td>\n",
       "      <td>400</td>\n",
       "      <td>None</td>\n",
       "      <td>None</td>\n",
       "      <td>NaN</td>\n",
       "      <td>3</td>\n",
       "      <td>1</td>\n",
       "      <td>As new</td>\n",
       "    </tr>\n",
       "  </tbody>\n",
       "</table>\n",
       "</div>"
      ],
      "text/plain": [
       "  Locality Type of property Subtype of property    Price Type of sale  \\\n",
       "0     1150            House                None   990000         None   \n",
       "1     1040            House                None   500000         None   \n",
       "2     1180        Apartment                None   380000         None   \n",
       "3     1050        Apartment                None  1795000         None   \n",
       "\n",
       "   Number of rooms  Area  Kitchen Furnished  Open fire  Terrace Garden  \\\n",
       "0                6   485        0      None        NaN       16   None   \n",
       "1                7   298        0      None        NaN       28   None   \n",
       "2                2    87        0      None        NaN       13   None   \n",
       "3                4   650        0      None        1.0      400   None   \n",
       "\n",
       "  Surface of the land  Surface area of the plot of land  Number of facades  \\\n",
       "0                None                             251.0                  2   \n",
       "1                None                              90.0                  2   \n",
       "2                None                               NaN                  2   \n",
       "3                None                               NaN                  3   \n",
       "\n",
       "   Swimming pool State of the building  \n",
       "0              0                As new  \n",
       "1              0                  Good  \n",
       "2              0                As new  \n",
       "3              1                As new  "
      ]
     },
     "execution_count": 214,
     "metadata": {},
     "output_type": "execute_result"
    }
   ],
   "source": [
    "df"
   ]
  },
  {
   "cell_type": "code",
   "execution_count": 2,
   "metadata": {},
   "outputs": [],
   "source": [
    "import requests\n",
    "from parsel import Selector"
   ]
  },
  {
   "cell_type": "code",
   "execution_count": 193,
   "metadata": {},
   "outputs": [],
   "source": [
    "url = 'https://www.immoweb.be/en/classified/house/for-sale/schaerbeek/1030/8774810?searchId=5f6d361cca5b3'\n",
    "html = str(requests.get(url).content)\n",
    "sel = Selector(text=html)"
   ]
  },
  {
   "cell_type": "markdown",
   "metadata": {},
   "source": [
    "## Interior"
   ]
  },
  {
   "cell_type": "code",
   "execution_count": 155,
   "metadata": {},
   "outputs": [
    {
     "name": "stdout",
     "output_type": "stream",
     "text": [
      "['Living area', 'Living room surface', 'Kitchen type', 'Bedrooms', 'Bedroom 1 surface', 'Bedroom 2 surface', 'Bedroom 3 surface', 'Bedroom 4 surface', 'Bedroom 5 surface', 'Bathrooms', 'Toilets', 'Office surface', 'Office', 'Work space surface', 'Basement', 'Attic']\n"
     ]
    }
   ],
   "source": [
    "interior_keys_xpath = '/html/body/div[1]/div[2]/div/div/main/div[2]/div[4]/div/div/div/iw-accordion/template/table/tbody/tr/th/text()'\n",
    "interior_keys = sel.xpath(interior_keys_xpath).extract()\n",
    "interior_keys_list = []\n",
    "for interior_key in interior_keys:\n",
    "    interior_key = interior_key.replace('\\\\n', '').strip()\n",
    "    interior_keys_list.append(interior_key)\n",
    "print(interior_keys_list)"
   ]
  },
  {
   "cell_type": "code",
   "execution_count": 156,
   "metadata": {},
   "outputs": [
    {
     "name": "stdout",
     "output_type": "stream",
     "text": [
      "['485', '55', 'Hyper equipped', '6', '21', '18', '18', '14', '14', '3', '4', '19', 'Yes', '120', 'Yes', 'Yes']\n"
     ]
    }
   ],
   "source": [
    "interior_values_xpath = '/html/body/div[1]/div[2]/div/div/main/div[2]/div[4]/div/div/div/iw-accordion/template/table/tbody/tr/td/text()'\n",
    "interior_values = sel.xpath(interior_values_xpath).extract()\n",
    "interior_values_list = []\n",
    "for interior_value in interior_values:\n",
    "    interior_value = interior_value.replace('\\\\n', '').strip()\n",
    "    if interior_value:\n",
    "        interior_values_list.append(interior_value)\n",
    "print(interior_values_list)"
   ]
  },
  {
   "cell_type": "code",
   "execution_count": 157,
   "metadata": {},
   "outputs": [
    {
     "data": {
      "text/plain": [
       "{'Living area': '485',\n",
       " 'Living room surface': '55',\n",
       " 'Kitchen type': 'Hyper equipped',\n",
       " 'Bedrooms': '6',\n",
       " 'Bedroom 1 surface': '21',\n",
       " 'Bedroom 2 surface': '18',\n",
       " 'Bedroom 3 surface': '18',\n",
       " 'Bedroom 4 surface': '14',\n",
       " 'Bedroom 5 surface': '14',\n",
       " 'Bathrooms': '3',\n",
       " 'Toilets': '4',\n",
       " 'Office surface': '19',\n",
       " 'Office': 'Yes',\n",
       " 'Work space surface': '120',\n",
       " 'Basement': 'Yes',\n",
       " 'Attic': 'Yes'}"
      ]
     },
     "execution_count": 157,
     "metadata": {},
     "output_type": "execute_result"
    }
   ],
   "source": [
    "interior_dict = {}\n",
    "for i in range(len(interior_keys_list)):\n",
    "    interior_dict[interior_keys_list[i]] = interior_values_list[i]\n",
    "interior_dict"
   ]
  },
  {
   "cell_type": "markdown",
   "metadata": {},
   "source": [
    "## Exterior"
   ]
  },
  {
   "cell_type": "code",
   "execution_count": 127,
   "metadata": {},
   "outputs": [
    {
     "name": "stdout",
     "output_type": "stream",
     "text": [
      "['Surface of the plot', 'Connection to sewer network', 'Terrace surface']\n"
     ]
    }
   ],
   "source": [
    "exterior_keys_xpath = '/html/body/div[1]/div[2]/div/div/main/div[2]/div[5]/div/div/div/iw-accordion/template/table/tbody/tr/th/text()'\n",
    "exterior_keys = sel.xpath(exterior_keys_xpath).extract()\n",
    "exterior_keys_list = []\n",
    "for exterior_key in exterior_keys:\n",
    "    exterior_key = exterior_key.replace('\\\\n', '').strip()\n",
    "    exterior_keys_list.append(exterior_key)\n",
    "print(exterior_keys_list)"
   ]
  },
  {
   "cell_type": "code",
   "execution_count": 128,
   "metadata": {},
   "outputs": [
    {
     "name": "stdout",
     "output_type": "stream",
     "text": [
      "['251', 'Connected', '16']\n"
     ]
    }
   ],
   "source": [
    "exterior_values_xpath = '/html/body/div[1]/div[2]/div/div/main/div[2]/div[5]/div/div/div/iw-accordion/template/table/tbody/tr/td/text()'\n",
    "exterior_values = sel.xpath(exterior_values_xpath).extract()\n",
    "exterior_values_list = []\n",
    "for exterior_value in exterior_values:\n",
    "    exterior_value = exterior_value.replace('\\\\n', '').strip()\n",
    "    if exterior_value:    \n",
    "        exterior_values_list.append(exterior_value)\n",
    "print(exterior_values_list)"
   ]
  },
  {
   "cell_type": "code",
   "execution_count": 129,
   "metadata": {},
   "outputs": [
    {
     "data": {
      "text/plain": [
       "{'Surface of the plot': '251',\n",
       " 'Connection to sewer network': 'Connected',\n",
       " 'Terrace surface': '16'}"
      ]
     },
     "execution_count": 129,
     "metadata": {},
     "output_type": "execute_result"
    }
   ],
   "source": [
    "exterior_dict = {}\n",
    "for i in range(len(exterior_keys_list)):\n",
    "    exterior_dict[exterior_keys_list[i]] = exterior_values_list[i]\n",
    "exterior_dict"
   ]
  },
  {
   "cell_type": "markdown",
   "metadata": {},
   "source": [
    "## General"
   ]
  },
  {
   "cell_type": "code",
   "execution_count": 10,
   "metadata": {},
   "outputs": [
    {
     "name": "stdout",
     "output_type": "stream",
     "text": [
      "['Available as of', 'Available date', 'Construction year', 'Floor', 'Number of floors', 'Building condition', 'Facades', 'Covered parking spaces']\n"
     ]
    }
   ],
   "source": [
    "general_keys_xpath = '/html/body/div[1]/div[2]/div/div/main/div[2]/div[3]/div/div/div/iw-accordion/template/table/tbody/tr/th/text()'\n",
    "general_keys = sel.xpath(general_keys_xpath).extract()\n",
    "general_keys_list = []\n",
    "for general_key in general_keys:\n",
    "    general_key = general_key.replace('\\\\n', '').strip()\n",
    "    general_keys_list.append(general_key)\n",
    "print(general_keys_list)"
   ]
  },
  {
   "cell_type": "code",
   "execution_count": 11,
   "metadata": {},
   "outputs": [
    {
     "name": "stdout",
     "output_type": "stream",
     "text": [
      "['Upon exchange of deeds', 'September 2 2020 - 12:00 AM', '2018', '3', '3', 'As new', '4', '1']\n"
     ]
    }
   ],
   "source": [
    "general_values_xpath = '/html/body/div[1]/div[2]/div/div/main/div[2]/div[3]/div/div/div/iw-accordion/template/table/tbody/tr/td/text()'\n",
    "general_values = sel.xpath(general_values_xpath).extract()\n",
    "general_values_list = []\n",
    "for general_value in general_values:\n",
    "    general_value = general_value.replace('\\\\n', '').strip()\n",
    "    general_values_list.append(general_value)\n",
    "print(general_values_list)"
   ]
  },
  {
   "cell_type": "code",
   "execution_count": 12,
   "metadata": {},
   "outputs": [
    {
     "data": {
      "text/plain": [
       "{'Available as of': 'Upon exchange of deeds',\n",
       " 'Available date': 'September 2 2020 - 12:00 AM',\n",
       " 'Construction year': '2018',\n",
       " 'Floor': '3',\n",
       " 'Number of floors': '3',\n",
       " 'Building condition': 'As new',\n",
       " 'Facades': '4',\n",
       " 'Covered parking spaces': '1'}"
      ]
     },
     "execution_count": 12,
     "metadata": {},
     "output_type": "execute_result"
    }
   ],
   "source": [
    "general_dict = {}\n",
    "for i in range(len(general_keys_list)):\n",
    "    general_dict[general_keys_list[i]] = general_values_list[i]\n",
    "general_dict"
   ]
  },
  {
   "cell_type": "markdown",
   "metadata": {},
   "source": [
    "## description"
   ]
  },
  {
   "cell_type": "code",
   "execution_count": 14,
   "metadata": {},
   "outputs": [
    {
     "data": {
      "text/plain": [
       "' Penthouse new 3 ch + garage and terrace  Ideally located halfway between Place Keym and Metro station Beaulieu, the new apartment project \"Charles\" offers apartments of 2 and 3 bedrooms from 87m \\\\xc2\\\\xb2 to 166m \\\\xc2\\\\xb2.  Located on the top floor, this beautiful penthouse composed of an entrance hall with elevator directly into the apartment, a cloakroom and guest toilet, a spacious living / dining room with access to a large terrace ideally facing south, a fitted kitchen and a laundry room with location for washing machines, a first bedroom with shower room and access to a south-west terrace, a spacious master bedroom with bathroom and toilet. On the lower floor: a bedroom also served by the elevator and separate access with bathroom and toilet. Garage box in basement, mandatory, price of 30. 000 \\\\xe2\\\\x82\\\\xac. Sales under VAT 21%. Passive building. '"
      ]
     },
     "execution_count": 14,
     "metadata": {},
     "output_type": "execute_result"
    }
   ],
   "source": [
    "descriptions_xpath = '/html/body/div[1]/div[2]/div/div/main/div[2]/div[2]/div/div/div//text()'\n",
    "descriptions = sel.xpath(descriptions_xpath).extract()\n",
    "descriptions_list = []\n",
    "for description in descriptions:\n",
    "    description = description.replace('\\\\n', '').strip()\n",
    "    descriptions_list.append(description)\n",
    "description = \" \".join(descriptions_list)\n",
    "description"
   ]
  },
  {
   "cell_type": "markdown",
   "metadata": {},
   "source": [
    "## Price"
   ]
  },
  {
   "cell_type": "code",
   "execution_count": 196,
   "metadata": {},
   "outputs": [
    {
     "data": {
      "text/plain": [
       "['Price']"
      ]
     },
     "execution_count": 196,
     "metadata": {},
     "output_type": "execute_result"
    }
   ],
   "source": [
    "price_keys_xpath = '/html/body/div[1]/div[2]/div/div/main/div[2]/div[9]/div/div/div/iw-accordion/template/table/tbody/tr[1]/th/text()'\n",
    "price_keys = sel.xpath(price_keys_xpath).extract()\n",
    "price_keys"
   ]
  },
  {
   "cell_type": "code",
   "execution_count": 197,
   "metadata": {},
   "outputs": [
    {
     "data": {
      "text/plain": [
       "500000"
      ]
     },
     "execution_count": 197,
     "metadata": {},
     "output_type": "execute_result"
    }
   ],
   "source": [
    "price_values_xpath = '/html/body/div[1]/div[2]/div/div/main/div[2]/div[9]/div/div/div/iw-accordion/template/table/tbody/tr[1]/td/span[2]/text()'\n",
    "price_values = sel.xpath(price_values_xpath).extract()\n",
    "price_values = re.findall('\\d+', price_values[0]) \n",
    "price_values = int(price_values[0])\n",
    "price_values"
   ]
  },
  {
   "cell_type": "markdown",
   "metadata": {},
   "source": [
    "## locality"
   ]
  },
  {
   "cell_type": "code",
   "execution_count": 84,
   "metadata": {},
   "outputs": [
    {
     "data": {
      "text/plain": [
       "'Address'"
      ]
     },
     "execution_count": 84,
     "metadata": {},
     "output_type": "execute_result"
    }
   ],
   "source": [
    "locality_keys_xpath = '/html/body/div[1]/div[2]/div/div/main/div[3]/section/div/iw-accordion/template[2]/div/div/div/table/tbody/tr[1]/th/text()'\n",
    "locality_keys = sel.xpath(locality_keys_xpath).extract()\n",
    "locality_keys = locality_keys[0].replace('\\\\n', '').strip()\n",
    "locality_keys"
   ]
  },
  {
   "cell_type": "code",
   "execution_count": 90,
   "metadata": {},
   "outputs": [
    {
     "data": {
      "text/plain": [
       "'1050'"
      ]
     },
     "execution_count": 90,
     "metadata": {},
     "output_type": "execute_result"
    }
   ],
   "source": [
    "locality_values_xpath = '/html/body/div[1]/div[2]/div/div/main/div[3]/section/div/iw-accordion/template[2]/div/div/div/table/tbody/tr[1]/td/text()'\n",
    "locality_values = sel.xpath(locality_values_xpath).extract()\n",
    "locality_values = locality_values[1].replace('\\\\n', '').strip()\n",
    "locality_values = re.findall('\\d+', locality_values)\n",
    "locality_values[0]"
   ]
  },
  {
   "cell_type": "code",
   "execution_count": null,
   "metadata": {},
   "outputs": [],
   "source": []
  },
  {
   "cell_type": "code",
   "execution_count": null,
   "metadata": {},
   "outputs": [],
   "source": []
  },
  {
   "cell_type": "code",
   "execution_count": 105,
   "metadata": {},
   "outputs": [],
   "source": [
    "import re\n",
    "class HouseScraping:\n",
    "    def __init__(self, url):\n",
    "        self.url = url\n",
    "        self.html = str(requests.get(self.url).content)\n",
    "        self.sel = Selector(text=self.html)\n",
    "        self.soup = BeautifulSoup(self.html)\n",
    "        \n",
    "        self.locality = self.locality()\n",
    "        self.type_property = self.type_property()\n",
    "        self.subtype = self.subtype()\n",
    "        self.price = self.price()\n",
    "        self.type_sale = self.type_sale()\n",
    "        self.num_rooms = self.num_rooms()\n",
    "        self.area = self.area()\n",
    "        self.kitchen = self.kitchen()\n",
    "        self.furnished = self.furnished()\n",
    "        self.fire = self.fire()\n",
    "        self.terrace_area = self.terrace_area()\n",
    "        self.garden_area = self.garden_area()\n",
    "        self.land = self.land()\n",
    "        self.land_plot = self.land_plot()\n",
    "        self.num_facade = self.num_facade()\n",
    "        self.pool = self.pool()\n",
    "        self.state = self.state()\n",
    "    \n",
    "    def locality(self):\n",
    "        return None\n",
    "    \n",
    "    def type_property(self):\n",
    "        return None\n",
    "    \n",
    "    def subtype(self):\n",
    "        return None\n",
    "    \n",
    "    def price(self):\n",
    "        return None\n",
    "    \n",
    "    def type_sale(self):\n",
    "        return None\n",
    "    \n",
    "    def num_rooms(self):\n",
    "        return None\n",
    "    \n",
    "    def area(self):    \n",
    "        area_xpath = '//table/tbody/tr[1]/th/text()'\n",
    "        area_key = self.sel.xpath(area_xpath).extract()\n",
    "        area_key = area_key[1].replace('\\\\n', '').strip()\n",
    "        if area_key == 'Living area':\n",
    "            area_xpath = '//table/tbody/tr[1]/td/text()'\n",
    "            area = self.sel.xpath(area_xpath).extract()\n",
    "            area = int(area[1].replace('\\\\n', '').strip())\n",
    "            return area\n",
    "        else:\n",
    "            return None\n",
    "    \n",
    "    def kitchen(self):\n",
    "        kitchen_xpath = '//table/tbody/tr[2]/th/text()'\n",
    "        kitchen_key = self.sel.xpath(kitchen_xpath).extract()\n",
    "        kitchen_key = kitchen_key[1].replace('\\\\n', '').strip()\n",
    "        if kitchen_key == 'Kitchen type':\n",
    "            kitchen_xpath = '//table/tbody/tr[2]/td/text()'\n",
    "            kitchen_value = self.sel.xpath(kitchen_xpath).extract()\n",
    "            kitchen_value = kitchen_value[1].replace('\\\\n', '').strip()\n",
    "            if kitchen_value == 'Installed':\n",
    "                return 1\n",
    "            else:\n",
    "                return 0\n",
    "        else:\n",
    "            return None\n",
    "        \n",
    "    def furnished(self):\n",
    "        return None\n",
    "    \n",
    "    def fire(self):\n",
    "        return None\n",
    "    \n",
    "    def terrace_area(self):\n",
    "        return None\n",
    "    \n",
    "    def garden_area(self):\n",
    "        return None\n",
    "    \n",
    "    def land(self):\n",
    "        return None\n",
    "    \n",
    "    def land_plot(self):\n",
    "        return None\n",
    "    \n",
    "    def num_facade(self):\n",
    "        return None\n",
    "    \n",
    "    def pool(self):\n",
    "        swim_regex = re.findall('swimming pool', self.html)\n",
    "        if swim_regex:\n",
    "            return 1\n",
    "        else:\n",
    "            return 0\n",
    "        \n",
    "    def state(self):            \n",
    "        building_conditon_xpath = '//table/tbody/tr[3]/th/text()'\n",
    "        building_conditon_key = self.sel.xpath(building_conditon_xpath).extract()\n",
    "        building_conditon_key = building_conditon_key[0].replace('\\\\n', '').strip()\n",
    "        \n",
    "        if building_conditon_key == 'Building condition':\n",
    "            building_conditon_xpath = '//table/tbody/tr[3]/td/text()'\n",
    "            building_conditon_value = self.sel.xpath(building_conditon_xpath).extract()\n",
    "            building_conditon_value = building_conditon_value[0].replace('\\\\n', '').strip()\n",
    "            return building_conditon_value\n",
    "        else:\n",
    "            return None"
   ]
  },
  {
   "cell_type": "code",
   "execution_count": 92,
   "metadata": {},
   "outputs": [
    {
     "ename": "KeyError",
     "evalue": "'jale'",
     "output_type": "error",
     "traceback": [
      "\u001b[1;31m---------------------------------------------------------------------------\u001b[0m",
      "\u001b[1;31mKeyError\u001b[0m                                  Traceback (most recent call last)",
      "\u001b[1;32m<ipython-input-92-78686adce7da>\u001b[0m in \u001b[0;36m<module>\u001b[1;34m\u001b[0m\n\u001b[0;32m      1\u001b[0m \u001b[0memre\u001b[0m \u001b[1;33m=\u001b[0m \u001b[1;33m{\u001b[0m\u001b[1;34m'kazi'\u001b[0m\u001b[1;33m:\u001b[0m \u001b[1;34m'jali'\u001b[0m\u001b[1;33m}\u001b[0m\u001b[1;33m\u001b[0m\u001b[1;33m\u001b[0m\u001b[0m\n\u001b[1;32m----> 2\u001b[1;33m \u001b[0myasin\u001b[0m \u001b[1;33m=\u001b[0m \u001b[0memre\u001b[0m\u001b[1;33m[\u001b[0m\u001b[1;34m'jale'\u001b[0m\u001b[1;33m]\u001b[0m\u001b[1;33m\u001b[0m\u001b[1;33m\u001b[0m\u001b[0m\n\u001b[0m\u001b[0;32m      3\u001b[0m \u001b[0myasin\u001b[0m\u001b[1;33m\u001b[0m\u001b[1;33m\u001b[0m\u001b[0m\n",
      "\u001b[1;31mKeyError\u001b[0m: 'jale'"
     ]
    }
   ],
   "source": [
    "emre = {'kazi': 'jali'}\n",
    "yasin = emre['jale']\n",
    "yasin"
   ]
  },
  {
   "cell_type": "code",
   "execution_count": null,
   "metadata": {},
   "outputs": [],
   "source": []
  }
 ],
 "metadata": {
  "kernelspec": {
   "display_name": "Python 3",
   "language": "python",
   "name": "python3"
  },
  "language_info": {
   "codemirror_mode": {
    "name": "ipython",
    "version": 3
   },
   "file_extension": ".py",
   "mimetype": "text/x-python",
   "name": "python",
   "nbconvert_exporter": "python",
   "pygments_lexer": "ipython3",
   "version": "3.7.3"
  }
 },
 "nbformat": 4,
 "nbformat_minor": 2
}
