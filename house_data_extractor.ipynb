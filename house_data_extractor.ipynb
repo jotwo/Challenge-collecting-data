{
 "cells": [
  {
   "cell_type": "code",
   "execution_count": 27,
   "metadata": {},
   "outputs": [],
   "source": [
    "import requests\n",
    "import bs4\n",
    "from bs4 import BeautifulSoup\n",
    "import re\n"
   ]
  },
  {
   "cell_type": "code",
   "execution_count": 8,
   "metadata": {
    "tags": []
   },
   "outputs": [
    {
     "output_type": "stream",
     "name": "stdout",
     "text": "https://www.immoweb.be/en/classified/house/for-sale/woluwe-st-pierre/1150/8822695 200\n"
    }
   ],
   "source": [
    "url = 'https://www.immoweb.be/en/classified/house/for-sale/woluwe-st-pierre/1150/8822695'\n",
    "\n",
    "r = requests.get(url)\n",
    "\n",
    "print(url, r.status_code)\n",
    "\n",
    "soup = BeautifulSoup(r.content,'lxml')\n"
   ]
  },
  {
   "cell_type": "code",
   "execution_count": 79,
   "metadata": {
    "tags": []
   },
   "outputs": [],
   "source": [
    "#Let's find all the tags <script> with attribute type=text/javascript\n",
    "tags = soup.find_all('script', attrs={\"type\" :\"text/javascript\"})\n",
    "for tag in tags:\n",
    "    #Let's convert thi content of the selected tags to strings\n",
    "    str_content = str(tag.string)\n",
    "    #If it contains substring 'window.classified', we've found the right tag\n",
    "    if 'window.classified' in str_content:\n",
    "        # print(tag.string)\n",
    "        raw_data = str_content"
   ]
  },
  {
   "cell_type": "code",
   "execution_count": 80,
   "metadata": {
    "tags": []
   },
   "outputs": [
    {
     "output_type": "stream",
     "name": "stdout",
     "text": "16135\n{\"id\":8822695,\"cluster\":null,\"customers\":[{\"id\":2631191,\"type\":\"PRIVATE\",\"email\":null,\"logoUrl\":null,\"phoneNumber\":null,\"mobileNumber\":\"+32479172790\",\"name\":null,\"website\":null,\"location\":{\"country\":null,\"region\":null,\"province\":null,\"district\":null,\"locality\":null,\"postalCode\":null,\"street\":null,\"number\":null,\"box\":null,\"propertyName\":null,\"floor\":null,\"latitude\":null,\"longitude\":null,\"approximated\":null,\"regionCode\":null,\"type\":null,\"hasSeaView\":null,\"pointsOfInterest\":null,\"placeName\":null}\n498\n"
    }
   ],
   "source": [
    "print(len(raw_data))\n",
    "raw_data = raw_data[raw_data.find(\"{\"):raw_data.find(\"}\")+1]\n",
    "print(raw_data)\n",
    "print(len(raw_data))"
   ]
  },
  {
   "cell_type": "code",
   "execution_count": null,
   "metadata": {},
   "outputs": [],
   "source": []
  }
 ],
 "metadata": {
  "kernelspec": {
   "display_name": "Python 3",
   "language": "python",
   "name": "python3"
  },
  "language_info": {
   "codemirror_mode": {
    "name": "ipython",
    "version": 3
   },
   "file_extension": ".py",
   "mimetype": "text/x-python",
   "name": "python",
   "nbconvert_exporter": "python",
   "pygments_lexer": "ipython3",
   "version": "3.8.3-final"
  }
 },
 "nbformat": 4,
 "nbformat_minor": 2
}