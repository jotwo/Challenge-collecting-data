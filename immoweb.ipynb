{
 "cells": [
  {
   "cell_type": "code",
   "execution_count": 15,
   "metadata": {},
   "outputs": [],
   "source": [
    "from selenium import webdriver\n",
    "import requests\n",
    "from parsel import Selector"
   ]
  },
  {
   "cell_type": "markdown",
   "metadata": {},
   "source": [
    "## 1) We obtain 10000 url of the properties with web driver."
   ]
  },
  {
   "cell_type": "code",
   "execution_count": 12,
   "metadata": {},
   "outputs": [
    {
     "name": "stdout",
     "output_type": "stream",
     "text": [
      "https://www.immoweb.be/en/classified/town-house/for-sale/strombeek-bever/1853/8911430?searchId=5f6c49339213c\n",
      "333\n"
     ]
    }
   ],
   "source": [
    "driver = webdriver.Chrome(executable_path='chromedriver.exe')\n",
    "\n",
    "# We add url of each house in 333 page in immoweb to houses_url list.\n",
    "houses_url = []\n",
    "\n",
    "for i in range(1, 334):\n",
    "    # We used 'i' to build urls of the 333 page in immoweb.\n",
    "    #   So, we can reach 333 pages with for loop.\n",
    "    apikey = str(i)+'&orderBy=relevance'\n",
    "    url = 'https://www.immoweb.be/en/search/house/for-sale?countries=BE&page='+apikey\n",
    "\n",
    "    # An implicit wait tells WebDriver to poll the DOM for a\n",
    "    #   certain amount of time when trying to find any element \n",
    "    #     (or elements) not immediately available. \n",
    "    driver.implicitly_wait(10)\n",
    "    \n",
    "    # The first thing you’ll want to do with WebDriver is navigate\n",
    "    #   to a link. The normal way to do this is by calling get method:    \n",
    "    driver.get(url)\n",
    "\n",
    "    # Selector` allows you to select parts of an XML or HTML text using CSS\n",
    "    #   or XPath expressions and extract data from it.\n",
    "    sel = Selector(text=driver.page_source) \n",
    "\n",
    "    # xpath query of the houses in the immoweb page\n",
    "    xpath_houeses = '//*[@id=\"main-content\"]/li//h2//a/@href'\n",
    "    \n",
    "    # Find nodes matching the xpath ``query`` and return the result\n",
    "    page_houses_url = sel.xpath(xpath_houeses).extract()\n",
    "    \n",
    "    # There are approximately 30 houses in each page.\n",
    "    # We add each page url list to houses_url like matrix.\n",
    "    houses_url.append(page_houses_url)\n",
    "\n",
    "print(houses_url[2][4])\n",
    "print(len(houses_url))"
   ]
  },
  {
   "cell_type": "markdown",
   "metadata": {},
   "source": [
    "## 2) We scrape all data of each house with requests"
   ]
  },
  {
   "cell_type": "markdown",
   "metadata": {},
   "source": [
    "#### Each url represents a house and a house have many attributes like localty, type_property etc.  "
   ]
  },
  {
   "cell_type": "code",
   "execution_count": 69,
   "metadata": {},
   "outputs": [],
   "source": [
    "import re\n",
    "class HouseScraping:\n",
    "    def __init__(self, url):\n",
    "        self.url = url\n",
    "        self.html = str(requests.get(self.url).content)\n",
    "        self.sel = Selector(text=self.html)\n",
    "        \n",
    "        self.locality = self.locality()\n",
    "        self.type_property = self.type_property()\n",
    "        self.subtype = self.subtype()\n",
    "        self.price = self.price()\n",
    "        self.type_sale = self.type_sale()\n",
    "        self.num_rooms = self.num_rooms()\n",
    "        self.area = self.area()\n",
    "        self.kitchen = self.kitchen()\n",
    "        self.furnished = self.furnished()\n",
    "        self.fire = self.fire()\n",
    "        self.terrace_area = self.terrace_area()\n",
    "        self.garden_area = self.garden_area()\n",
    "        self.land = self.land()\n",
    "        self.land_plot = self.land_plot()\n",
    "        self.num_facade = self.num_facade()\n",
    "        self.pool = self.pool()\n",
    "        self.state = self.state()\n",
    "    \n",
    "    def locality(self):\n",
    "        pass\n",
    "    \n",
    "    def type_property(self):\n",
    "        pass\n",
    "    \n",
    "    def subtype(self):\n",
    "        pass\n",
    "    \n",
    "    def price(self):\n",
    "        pass\n",
    "    \n",
    "    def type_sale(self):\n",
    "        pass\n",
    "    \n",
    "    def num_rooms(self):\n",
    "        pass\n",
    "    \n",
    "    def area(self):\n",
    "        pass\n",
    "    \n",
    "    def kitchen(self):\n",
    "        pass\n",
    "        \n",
    "    def furnished(self):\n",
    "        pass\n",
    "    \n",
    "    def fire(self):\n",
    "        pass\n",
    "    \n",
    "    def terrace_area(self):\n",
    "        pass\n",
    "    \n",
    "    def garden_area(self):\n",
    "        pass\n",
    "    \n",
    "    def land(self):\n",
    "        pass\n",
    "    \n",
    "    def land_plot(self):\n",
    "        pass\n",
    "    \n",
    "    def num_facade(self):\n",
    "        pass\n",
    "    \n",
    "    def pool(self):\n",
    "        html_string = str(self.html)\n",
    "        swim_regex = re.findall('swimming pool', html_doc)\n",
    "        if swim_regex:\n",
    "            return 1\n",
    "        else:\n",
    "            return 0\n",
    "        \n",
    "    def state(self):            \n",
    "        pass"
   ]
  },
  {
   "cell_type": "markdown",
   "metadata": {},
   "source": [
    "####       We collect all data in the houses_dict."
   ]
  },
  {
   "cell_type": "code",
   "execution_count": 70,
   "metadata": {},
   "outputs": [
    {
     "name": "stdout",
     "output_type": "stream",
     "text": [
      "https://www.immoweb.be/en/classified/house/for-sale/woluwe-saint-pierre/1150/8856902?searchId=5f6c492536874\n"
     ]
    }
   ],
   "source": [
    "print(houses_url[0][0])"
   ]
  },
  {
   "cell_type": "code",
   "execution_count": null,
   "metadata": {},
   "outputs": [],
   "source": [
    "from collections import defaultdict\n",
    "houses_dict = defaultdict(list)\n",
    "\n",
    "for page_list in houses_url:\n",
    "    for url_a_house in page_list:\n",
    "        \n",
    "        houses_class = HouseScraping(url_a_house)\n",
    "        \n",
    "        houses_dict['Locality'].append(houses_class.locality)\n",
    "        houses_dict['Type of property'].append(houses_class.type_property)\n",
    "        houses_dict['Subtype of property'].append(houses_class.subtype)\n",
    "        houses_dict['Price'].append(houses_class.price)\n",
    "        houses_dict['Type of sale'].append(houses_class.type_sale)\n",
    "        houses_dict['Number of rooms'].append(houses_class.num_rooms)\n",
    "        houses_dict['Area'].append(houses_class.area)\n",
    "        houses_dict['Fully equipped kitchen'].append(houses_class.kitchen)\n",
    "        houses_dict['Furnished'].append(houses_class.furnished)\n",
    "        houses_dict['Open fire'].append(houses_class.fire)\n",
    "        houses_dict['Terrace'].append(houses_class.terrace_area)\n",
    "        houses_dict['Garden'].append(houses_class.garden_area)\n",
    "        houses_dict['Surface of the land'].append(houses_class.land)\n",
    "        houses_dict['Surface area of the plot of land'].append(houses_class.land_plot)\n",
    "        houses_dict['Number of facades'].append(houses_class.num_facade)\n",
    "        houses_dict['Swimming pool'].append(houses_class.pool)\n",
    "        houses_dict['State of the building'].append(houses_class.state)"
   ]
  },
  {
   "cell_type": "markdown",
   "metadata": {},
   "source": [
    "## 3) We store all data to a csv file with dataframe."
   ]
  },
  {
   "cell_type": "code",
   "execution_count": null,
   "metadata": {},
   "outputs": [],
   "source": [
    "import pandas as pd\n",
    "    \n",
    "df = pd.DataFrame(houses_dict)\n",
    "df.to_csv('all_data_of_the_houses.csv')"
   ]
  },
  {
   "cell_type": "code",
   "execution_count": null,
   "metadata": {},
   "outputs": [],
   "source": []
  }
 ],
 "metadata": {
  "kernelspec": {
   "display_name": "Python 3",
   "language": "python",
   "name": "python3"
  },
  "language_info": {
   "codemirror_mode": {
    "name": "ipython",
    "version": 3
   },
   "file_extension": ".py",
   "mimetype": "text/x-python",
   "name": "python",
   "nbconvert_exporter": "python",
   "pygments_lexer": "ipython3",
   "version": "3.7.3"
  }
 },
 "nbformat": 4,
 "nbformat_minor": 2
}
