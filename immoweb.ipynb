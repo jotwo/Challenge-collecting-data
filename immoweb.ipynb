{
 "cells": [
  {
   "cell_type": "code",
   "execution_count": 15,
   "metadata": {},
   "outputs": [],
   "source": [
    "from selenium import webdriver\n",
    "import requests\n",
    "from parsel import Selector"
   ]
  },
  {
   "cell_type": "code",
   "execution_count": 12,
   "metadata": {},
   "outputs": [
    {
     "name": "stdout",
     "output_type": "stream",
     "text": [
      "https://www.immoweb.be/en/classified/town-house/for-sale/strombeek-bever/1853/8911430?searchId=5f6c49339213c\n",
      "333\n"
     ]
    }
   ],
   "source": [
    "driver = webdriver.Chrome(executable_path='chromedriver.exe')\n",
    "\n",
    "# We add url of each house in 333 page in immoweb to houses_url list.\n",
    "houses_url = []\n",
    "\n",
    "for i in range(1, 334):\n",
    "    # We used 'i' to build urls of the 333 page in immoweb.\n",
    "    #   So, we can reach 333 pages with for loop.\n",
    "    apikey = str(i)+'&orderBy=relevance'\n",
    "    url = 'https://www.immoweb.be/en/search/house/for-sale?countries=BE&page='+apikey\n",
    "\n",
    "    # An implicit wait tells WebDriver to poll the DOM for a\n",
    "    #   certain amount of time when trying to find any element \n",
    "    #     (or elements) not immediately available. \n",
    "    driver.implicitly_wait(10)\n",
    "    \n",
    "    # The first thing you’ll want to do with WebDriver is navigate\n",
    "    #   to a link. The normal way to do this is by calling get method:    \n",
    "    driver.get(url)\n",
    "\n",
    "    # Selector` allows you to select parts of an XML or HTML text using CSS\n",
    "    #   or XPath expressions and extract data from it.\n",
    "    sel = Selector(text=driver.page_source) \n",
    "\n",
    "    # xpath query of the houses in the immoweb page\n",
    "    xpath_houeses = '//*[@id=\"main-content\"]/li//h2//a/@href'\n",
    "    \n",
    "    # Find nodes matching the xpath ``query`` and return the result\n",
    "    page_houses_url = sel.xpath(xpath_houeses).extract()\n",
    "    \n",
    "    # There are approximately 30 houses in each page.\n",
    "    # We add each page url list to houses_url like matrix.\n",
    "    houses_url.append(page_houses_url)\n",
    "\n",
    "print(houses_url[2][4])\n",
    "print(len(houses_url))"
   ]
  },
  {
   "cell_type": "code",
   "execution_count": null,
   "metadata": {},
   "outputs": [],
   "source": []
  },
  {
   "cell_type": "code",
   "execution_count": null,
   "metadata": {},
   "outputs": [],
   "source": []
  }
 ],
 "metadata": {
  "kernelspec": {
   "display_name": "Python 3",
   "language": "python",
   "name": "python3"
  },
  "language_info": {
   "codemirror_mode": {
    "name": "ipython",
    "version": 3
   },
   "file_extension": ".py",
   "mimetype": "text/x-python",
   "name": "python",
   "nbconvert_exporter": "python",
   "pygments_lexer": "ipython3",
   "version": "3.7.3"
  }
 },
 "nbformat": 4,
 "nbformat_minor": 2
}
