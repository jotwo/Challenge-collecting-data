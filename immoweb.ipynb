{
 "cells": [
  {
   "cell_type": "code",
   "execution_count": 1,
   "metadata": {},
   "outputs": [],
   "source": [
    "from selenium import webdriver\n",
    "from parsel import Selector"
   ]
  },
  {
   "cell_type": "code",
   "execution_count": 2,
   "metadata": {},
   "outputs": [],
   "source": [
    "driver = webdriver.Chrome(executable_path='C:/Users/dogan/Documents/becode.org/BXL-Bouman-2.22/Content/00.projects/01.scraping/chromedriver.exe')\n",
    "\n",
    "driver.get('https://www.immoweb.be/en')\n",
    "\n",
    "driver.find_element_by_xpath('//*[@id=\"searchBoxSubmitButton\"]').click()"
   ]
  },
  {
   "cell_type": "code",
   "execution_count": 5,
   "metadata": {},
   "outputs": [
    {
     "name": "stdout",
     "output_type": "stream",
     "text": [
      "https://www.immoweb.be/en/classified/house/for-sale/woluwe-saint-pierre/1150/8856902?searchId=5f6b4fcd7e497\n",
      "30\n"
     ]
    }
   ],
   "source": [
    "sel = Selector(text=driver.page_source) \n",
    "\n",
    "xpath_houeses = '//*[@id=\"main-content\"]/li//h2//a/@href'\n",
    "houses_url = sel.xpath(xpath_houeses).extract()\n",
    "print(houses_url[0])\n",
    "print(len(houses_url))"
   ]
  },
  {
   "cell_type": "code",
   "execution_count": null,
   "metadata": {},
   "outputs": [],
   "source": []
  }
 ],
 "metadata": {
  "kernelspec": {
   "display_name": "Python 3",
   "language": "python",
   "name": "python3"
  },
  "language_info": {
   "codemirror_mode": {
    "name": "ipython",
    "version": 3
   },
   "file_extension": ".py",
   "mimetype": "text/x-python",
   "name": "python",
   "nbconvert_exporter": "python",
   "pygments_lexer": "ipython3",
   "version": "3.7.3"
  }
 },
 "nbformat": 4,
 "nbformat_minor": 2
}
