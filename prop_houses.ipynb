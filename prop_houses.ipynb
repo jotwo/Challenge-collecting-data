{
 "cells": [
  {
   "cell_type": "code",
   "execution_count": 1,
   "metadata": {},
   "outputs": [
    {
     "output_type": "error",
     "ename": "SyntaxError",
     "evalue": "invalid syntax (<ipython-input-1-4980ebde03dd>, line 2)",
     "traceback": [
      "\u001b[0;36m  File \u001b[0;32m\"<ipython-input-1-4980ebde03dd>\"\u001b[0;36m, line \u001b[0;32m2\u001b[0m\n\u001b[0;31m    import requests'html.parser'\u001b[0m\n\u001b[0m                   ^\u001b[0m\n\u001b[0;31mSyntaxError\u001b[0m\u001b[0;31m:\u001b[0m invalid syntax\n"
     ]
    }
   ],
   "source": [
    "from bs4 import BeautifulSoup\n",
    "import requests"
   ]
  },
  {
   "cell_type": "code",
   "execution_count": 18,
   "metadata": {
    "tags": []
   },
   "outputs": [
    {
     "output_type": "stream",
     "name": "stdout",
     "text": "https://www.immoweb.be/en/classified/house/for-sale/woluwe-saint-pierre/1150/8856902?searchId=5f6b5bb3324c6 200\n"
    }
   ],
   "source": [
    "#url='https://www.immoweb.be/en/classified/house/for-sale/woluwe-saint-pierre/1150/8856902?searchId=5f6b5bb3324c6'\n",
    "url = 'https://www.immoweb.be/en/classified/house/for-sale/woluwe-st-pierre/1150/8822695'\n",
    "#url = 'https://www.immoweb.be/en/classified/apartment/for-sale/oostende/8400/8866349'\n",
    "r = requests.get(url)\n",
    "print(url, r.status_code)\n",
    "soup = BeautifulSoup(r.content,'html.parser')\n",
    "#soup\n",
    "# with open('immo.html', 'w') as file:\n",
    "#     file.write(str(soup))"
   ]
  },
  {
   "cell_type": "code",
   "execution_count": 27,
   "metadata": {
    "tags": []
   },
   "outputs": [
    {
     "output_type": "stream",
     "name": "stdout",
     "text": "<class 'bs4.element.ResultSet'>\n<class 'str'>\n"
    }
   ],
   "source": [
    "# The relevant info is under a \"script\" tag\n",
    "\n",
    "result_set = soup.find_all('script',attrs={\"type\" :\"text/javascript\"})\n",
    "print(type(result_set)) # ResultSet\n",
    "\n",
    "# Specifically, the relevant info is under the second \"script\" tag that contains the string 'window.classified'\n",
    "for tag in result_set:\n",
    "    #If it contains substring 'window.classified', we've found the right tag\n",
    "    if 'window.classified' in str(tag.string):\n",
    "        # print(tag.string)\n",
    "        window_classified = tag\n",
    "        #when we've found the right tag we can stop the loop earlier\n",
    "        break\n",
    "\n",
    "# print(type(window_classified)) # Tag\n",
    "\n",
    "# Access to the string attribute of the tag\n",
    "wcs = window_classified.string\n",
    "wcs.strip()"
   ]
  },
  {
   "cell_type": "code",
   "execution_count": 21,
   "metadata": {
    "tags": []
   },
   "outputs": [
    {
     "output_type": "stream",
     "name": "stdout",
     "text": "{\"id\":8856902,\"cluster\":null,\"customers\":[{\"id\":1584,\"type\":\"AGENCY\",\"email\":\"sorimo_bruxelles@importfrommedia.be\",\"logoUrl\":\"https:\\/\\/static.immoweb.be\\/logos\\/1584.gif?cache=2016061403993\",\"phoneNumber\":\"+32 2 772 80 20\",\"mobileNumber\":null,\"name\":\"Sorimo  - Bruxelles\",\"website\":\"http:\\/\\/www.sorimo.be\",\"location\":{\"country\":\"Belgium\",\"region\":null,\"province\":\"Brussels\",\"district\":\"Brussels\",\"locality\":\"Woluwe-St-Pierre\",\"postalCode\":\"1150\",\"street\":\"Val des Seigneurs, 9a\",\"number\":null,\"box\":null,\"propertyName\":null,\"floor\":null,\"latitude\":50.8399491,\"longitude\":4.4637184,\"approximated\":null,\"regionCode\":null,\"type\":null,\"hasSeaView\":null,\"pointsOfInterest\":null,\"placeName\":null},\"ipiNo\":\"506.442\",\"isOwner\":true,\"contactHoursMobile\":null,\"contactHoursLandline\":\"working_hours\",\"salesRepresentative\":null}],\"premiumProjectPage\":{\"medias\":null,\"options\":null,\"promoter\":null,\"tabs\":null},\"flags\":{\"isPublicSale\":false,\"isNewClassified\":false,\"isNewPrice\":false,\"isNewlyBuilt\":true,\"isNotarySale\":null,\"isLifeAnnuitySale\":false,\"adQuality\":null,\"date\":null,\"priceSqm\":null,\"price\":null,\"default\":null,\"isSoldOrRented\":false,\"isLowEnergy\":null,\"percentSold\":null,\"isPassiveHouse\":null,\"isNewRealEstateProject\":false,\"isAnInteractiveSale\":null,\"isUnderOption\":null},\"media\":{\"pictures\":[{\"smallUrl\":\"https:\\/\\/static.immoweb.be\\/photos\\/0\\/8\\/8\\/5\\/6\\/9\\/0\\/2\\/8856902_1.gif?cache=20200730110917\",\"mediumUrl\":\"https:\\/\\/static.immoweb.be\\/photos\\/0\\/8\\/8\\/5\\/6\\/9\\/0\\/2\\/M_8856902_1.jpg?cache=20200730110917\",\"largeUrl\":\"https:\\/\\/static.immoweb.be\\/photos\\/0\\/8\\/8\\/5\\/6\\/9\\/0\\/2\\/8856902_1.jpg?cache=20200730110917\",\"isVertical\":true},{\"smallUrl\":\"https:\\/\\/static.immoweb.be\\/photos\\/0\\/8\\/8\\/5\\/6\\/9\\/0\\/2\\/8856902_2.gif?cache=20200730023931\",\"mediumUrl\":\"https:\\/\\/static.immoweb.be\\/photos\\/0\\/8\\/8\\/5\\/6\\/9\\/0\\/2\\/M_8856902_2.jpg?cache=20200730023931\",\"largeUrl\":\"https:\\/\\/static.immoweb.be\\/photos\\/0\\/8\\/8\\/5\\/6\\/9\\/0\\/2\\/8856902_2.jpg?cache=20200730023931\",\"isVertical\":false},{\"smallUrl\":\"https:\\/\\/static.immoweb.be\\/photos\\/0\\/8\\/8\\/5\\/6\\/9\\/0\\/2\\/8856902_3.gif?cache=20200730023931\",\"mediumUrl\":\"https:\\/\\/static.immoweb.be\\/photos\\/0\\/8\\/8\\/5\\/6\\/9\\/0\\/2\\/M_8856902_3.jpg?cache=20200730023931\",\"largeUrl\":\"https:\\/\\/static.immoweb.be\\/photos\\/0\\/8\\/8\\/5\\/6\\/9\\/0\\/2\\/8856902_3.jpg?cache=20200730023931\",\"isVertical\":false},{\"smallUrl\":\"https:\\/\\/static.immoweb.be\\/photos\\/0\\/8\\/8\\/5\\/6\\/9\\/0\\/2\\/8856902_4.gif?cache=20200730023932\",\"mediumUrl\":\"https:\\/\\/static.immoweb.be\\/photos\\/0\\/8\\/8\\/5\\/6\\/9\\/0\\/2\\/M_8856902_4.jpg?cache=20200730023932\",\"largeUrl\":\"https:\\/\\/static.immoweb.be\\/photos\\/0\\/8\\/8\\/5\\/6\\/9\\/0\\/2\\/8856902_4.jpg?cache=20200730023932\",\"isVertical\":false},{\"smallUrl\":\"https:\\/\\/static.immoweb.be\\/photos\\/0\\/8\\/8\\/5\\/6\\/9\\/0\\/2\\/8856902_5.gif?cache=20200730023932\",\"mediumUrl\":\"https:\\/\\/static.immoweb.be\\/photos\\/0\\/8\\/8\\/5\\/6\\/9\\/0\\/2\\/M_8856902_5.jpg?cache=20200730023932\",\"largeUrl\":\"https:\\/\\/static.immoweb.be\\/photos\\/0\\/8\\/8\\/5\\/6\\/9\\/0\\/2\\/8856902_5.jpg?cache=20200730023932\",\"isVertical\":false},{\"smallUrl\":\"https:\\/\\/static.immoweb.be\\/photos\\/0\\/8\\/8\\/5\\/6\\/9\\/0\\/2\\/8856902_6.gif?cache=20200730023932\",\"mediumUrl\":\"https:\\/\\/static.immoweb.be\\/photos\\/0\\/8\\/8\\/5\\/6\\/9\\/0\\/2\\/M_8856902_6.jpg?cache=20200730023932\",\"largeUrl\":\"https:\\/\\/static.immoweb.be\\/photos\\/0\\/8\\/8\\/5\\/6\\/9\\/0\\/2\\/8856902_6.jpg?cache=20200730023932\",\"isVertical\":false},{\"smallUrl\":\"https:\\/\\/static.immoweb.be\\/photos\\/0\\/8\\/8\\/5\\/6\\/9\\/0\\/2\\/8856902_7.gif?cache=20200730023932\",\"mediumUrl\":\"https:\\/\\/static.immoweb.be\\/photos\\/0\\/8\\/8\\/5\\/6\\/9\\/0\\/2\\/M_8856902_7.jpg?cache=20200730023932\",\"largeUrl\":\"https:\\/\\/static.immoweb.be\\/photos\\/0\\/8\\/8\\/5\\/6\\/9\\/0\\/2\\/8856902_7.jpg?cache=20200730023932\",\"isVertical\":false},{\"smallUrl\":\"https:\\/\\/static.immoweb.be\\/photos\\/0\\/8\\/8\\/5\\/6\\/9\\/0\\/2\\/8856902_8.gif?cache=20200730023932\",\"mediumUrl\":\"https:\\/\\/static.immoweb.be\\/photos\\/0\\/8\\/8\\/5\\/6\\/9\\/0\\/2\\/M_8856902_8.jpg?cache=20200730023932\",\"largeUrl\":\"https:\\/\\/static.immoweb.be\\/photos\\/0\\/8\\/8\\/5\\/6\\/9\\/0\\/2\\/8856902_8.jpg?cache=20200730023932\",\"isVertical\":false},{\"smallUrl\":\"https:\\/\\/static.immoweb.be\\/photos\\/0\\/8\\/8\\/5\\/6\\/9\\/0\\/2\\/8856902_9.gif?cache=20200730023932\",\"mediumUrl\":\"https:\\/\\/static.immoweb.be\\/photos\\/0\\/8\\/8\\/5\\/6\\/9\\/0\\/2\\/M_8856902_9.jpg?cache=20200730023932\",\"largeUrl\":\"https:\\/\\/static.immoweb.be\\/photos\\/0\\/8\\/8\\/5\\/6\\/9\\/0\\/2\\/8856902_9.jpg?cache=20200730023932\",\"isVertical\":false},{\"smallUrl\":\"https:\\/\\/static.immoweb.be\\/photos\\/0\\/8\\/8\\/5\\/6\\/9\\/0\\/2\\/8856902_0.gif?cache=20200730023931\",\"mediumUrl\":\"https:\\/\\/static.immoweb.be\\/photos\\/0\\/8\\/8\\/5\\/6\\/9\\/0\\/2\\/M_8856902_0.jpg?cache=20200730023931\",\"largeUrl\":\"https:\\/\\/static.immoweb.be\\/photos\\/0\\/8\\/8\\/5\\/6\\/9\\/0\\/2\\/8856902_0.jpg?cache=20200730023931\",\"isVertical\":false},{\"smallUrl\":\"https:\\/\\/static.immoweb.be\\/photos\\/0\\/8\\/8\\/5\\/6\\/9\\/0\\/2\\/8856902_A.gif?cache=20200730023932\",\"mediumUrl\":\"https:\\/\\/static.immoweb.be\\/photos\\/0\\/8\\/8\\/5\\/6\\/9\\/0\\/2\\/M_8856902_A.jpg?cache=20200730023932\",\"largeUrl\":\"https:\\/\\/static.immoweb.be\\/photos\\/0\\/8\\/8\\/5\\/6\\/9\\/0\\/2\\/8856902_A.jpg?cache=20200730023932\",\"isVertical\":false},{\"smallUrl\":\"https:\\/\\/static.immoweb.be\\/photos\\/0\\/8\\/8\\/5\\/6\\/9\\/0\\/2\\/8856902_B.gif?cache=20200730023932\",\"mediumUrl\":\"https:\\/\\/static.immoweb.be\\/photos\\/0\\/8\\/8\\/5\\/6\\/9\\/0\\/2\\/M_8856902_B.jpg?cache=20200730023932\",\"largeUrl\":\"https:\\/\\/static.immoweb.be\\/photos\\/0\\/8\\/8\\/5\\/6\\/9\\/0\\/2\\/8856902_B.jpg?cache=20200730023932\",\"isVertical\":false},{\"smallUrl\":\"https:\\/\\/static.immoweb.be\\/photos\\/0\\/8\\/8\\/5\\/6\\/9\\/0\\/2\\/8856902_C.gif?cache=20200730023932\",\"mediumUrl\":\"https:\\/\\/static.immoweb.be\\/photos\\/0\\/8\\/8\\/5\\/6\\/9\\/0\\/2\\/M_8856902_C.jpg?cache=20200730023932\",\"largeUrl\":\"https:\\/\\/static.immoweb.be\\/photos\\/0\\/8\\/8\\/5\\/6\\/9\\/0\\/2\\/8856902_C.jpg?cache=20200730023932\",\"isVertical\":false},{\"smallUrl\":\"https:\\/\\/static.immoweb.be\\/photos\\/0\\/8\\/8\\/5\\/6\\/9\\/0\\/2\\/8856902_D.gif?cache=20200730023932\",\"mediumUrl\":\"https:\\/\\/static.immoweb.be\\/photos\\/0\\/8\\/8\\/5\\/6\\/9\\/0\\/2\\/M_8856902_D.jpg?cache=20200730023932\",\"largeUrl\":\"https:\\/\\/static.immoweb.be\\/photos\\/0\\/8\\/8\\/5\\/6\\/9\\/0\\/2\\/8856902_D.jpg?cache=20200730023932\",\"isVertical\":false},{\"smallUrl\":\"https:\\/\\/static.immoweb.be\\/photos\\/0\\/8\\/8\\/5\\/6\\/9\\/0\\/2\\/8856902_E.gif?cache=20200730023932\",\"mediumUrl\":\"https:\\/\\/static.immoweb.be\\/photos\\/0\\/8\\/8\\/5\\/6\\/9\\/0\\/2\\/M_8856902_E.jpg?cache=20200730023932\",\"largeUrl\":\"https:\\/\\/static.immoweb.be\\/photos\\/0\\/8\\/8\\/5\\/6\\/9\\/0\\/2\\/8856902_E.jpg?cache=20200730023932\",\"isVertical\":false},{\"smallUrl\":\"https:\\/\\/static.immoweb.be\\/photos\\/0\\/8\\/8\\/5\\/6\\/9\\/0\\/2\\/8856902_F.gif?cache=20200730023932\",\"mediumUrl\":\"https:\\/\\/static.immoweb.be\\/photos\\/0\\/8\\/8\\/5\\/6\\/9\\/0\\/2\\/M_8856902_F.jpg?cache=20200730023932\",\"largeUrl\":\"https:\\/\\/static.immoweb.be\\/photos\\/0\\/8\\/8\\/5\\/6\\/9\\/0\\/2\\/8856902_F.jpg?cache=20200730023932\",\"isVertical\":false},{\"smallUrl\":\"https:\\/\\/static.immoweb.be\\/photos\\/0\\/8\\/8\\/5\\/6\\/9\\/0\\/2\\/8856902_G.gif?cache=20200730023932\",\"mediumUrl\":\"https:\\/\\/static.immoweb.be\\/photos\\/0\\/8\\/8\\/5\\/6\\/9\\/0\\/2\\/M_8856902_G.jpg?cache=20200730023932\",\"largeUrl\":\"https:\\/\\/static.immoweb.be\\/photos\\/0\\/8\\/8\\/5\\/6\\/9\\/0\\/2\\/8856902_G.jpg?cache=20200730023932\",\"isVertical\":false},{\"smallUrl\":\"https:\\/\\/static.immoweb.be\\/photos\\/0\\/8\\/8\\/5\\/6\\/9\\/0\\/2\\/8856902_H.gif?cache=20200730023932\",\"mediumUrl\":\"https:\\/\\/static.immoweb.be\\/photos\\/0\\/8\\/8\\/5\\/6\\/9\\/0\\/2\\/M_8856902_H.jpg?cache=20200730023932\",\"largeUrl\":\"https:\\/\\/static.immoweb.be\\/photos\\/0\\/8\\/8\\/5\\/6\\/9\\/0\\/2\\/8856902_H.jpg?cache=20200730023932\",\"isVertical\":false},{\"smallUrl\":\"https:\\/\\/static.immoweb.be\\/photos\\/0\\/8\\/8\\/5\\/6\\/9\\/0\\/2\\/8856902_I.gif?cache=20200730110917\",\"mediumUrl\":\"https:\\/\\/static.immoweb.be\\/photos\\/0\\/8\\/8\\/5\\/6\\/9\\/0\\/2\\/M_8856902_I.jpg?cache=20200730110917\",\"largeUrl\":\"https:\\/\\/static.immoweb.be\\/photos\\/0\\/8\\/8\\/5\\/6\\/9\\/0\\/2\\/8856902_I.jpg?cache=20200730110917\",\"isVertical\":false},{\"smallUrl\":\"https:\\/\\/static.immoweb.be\\/photos\\/0\\/8\\/8\\/5\\/6\\/9\\/0\\/2\\/8856902_J.gif?cache=20200730110917\",\"mediumUrl\":\"https:\\/\\/static.immoweb.be\\/photos\\/0\\/8\\/8\\/5\\/6\\/9\\/0\\/2\\/M_8856902_J.jpg?cache=20200730110917\",\"largeUrl\":\"https:\\/\\/static.immoweb.be\\/photos\\/0\\/8\\/8\\/5\\/6\\/9\\/0\\/2\\/8856902_J.jpg?cache=20200730110917\",\"isVertical\":true},{\"smallUrl\":\"https:\\/\\/static.immoweb.be\\/photos\\/0\\/8\\/8\\/5\\/6\\/9\\/0\\/2\\/8856902_K.gif?cache=20200730110917\",\"mediumUrl\":\"https:\\/\\/static.immoweb.be\\/photos\\/0\\/8\\/8\\/5\\/6\\/9\\/0\\/2\\/M_8856902_K.jpg?cache=20200730110917\",\"largeUrl\":\"https:\\/\\/static.immoweb.be\\/photos\\/0\\/8\\/8\\/5\\/6\\/9\\/0\\/2\\/8856902_K.jpg?cache=20200730110917\",\"isVertical\":false},{\"smallUrl\":\"https:\\/\\/static.immoweb.be\\/photos\\/0\\/8\\/8\\/5\\/6\\/9\\/0\\/2\\/8856902_L.gif?cache=20200730110918\",\"mediumUrl\":\"https:\\/\\/static.immoweb.be\\/photos\\/0\\/8\\/8\\/5\\/6\\/9\\/0\\/2\\/M_8856902_L.jpg?cache=20200730110918\",\"largeUrl\":\"https:\\/\\/static.immoweb.be\\/photos\\/0\\/8\\/8\\/5\\/6\\/9\\/0\\/2\\/8856902_L.jpg?cache=20200730110917\",\"isVertical\":false},{\"smallUrl\":\"https:\\/\\/static.immoweb.be\\/photos\\/0\\/8\\/8\\/5\\/6\\/9\\/0\\/2\\/8856902_M.gif?cache=20200730110917\",\"mediumUrl\":\"https:\\/\\/static.immoweb.be\\/photos\\/0\\/8\\/8\\/5\\/6\\/9\\/0\\/2\\/M_8856902_M.jpg?cache=20200730110917\",\"largeUrl\":\"https:\\/\\/static.immoweb.be\\/photos\\/0\\/8\\/8\\/5\\/6\\/9\\/0\\/2\\/8856902_M.jpg?cache=20200730110917\",\"isVertical\":false}],\"virtualTourUrl\":null,\"floorPlans\":null,\"specifications\":null,\"virtualExperienceUrl\":null},\"property\":{\"type\":\"HOUSE\",\"subtype\":\"HOUSE\",\"title\":\"Entre la Maison Communale et \\\"La Rasante\\\" - 2 Logements\",\"description\":\"Entre la Maison Communale et \\\"La Rasante\\\", spacieuse maison de style classique, proposant de larges espaces, convenant soit \\u00e0 deux logements, soit \\u00e0 un logement et bureau\\/profession lib\\u00e9rale au rez-de-chauss\\u00e9e.  Sa composition : Rez de chauss\\u00e9e : hall d'entr\\u00e9e et premier logement  (S\\u00e9jour, cuisine \\u00e9quip\\u00e9e, une chambre, salle de bains et bureau).  Etages sup\\u00e9rieurs : Second logement : vaste s\\u00e9jour, grande cuisine familiale, avec acc\\u00e8s \\u00e0 une terrasse, 5 chambres \\u00e0 coucher, 2 salles d'eau, biblioth\\u00e8que, family room.  Le sous-sol accueille un vaste garage et diff\\u00e9rentes caves.  PEB : F et G.\",\"name\":null,\"isHolidayProperty\":null,\"bedroomCount\":6,\"bedrooms\":[{\"surface\":21},{\"surface\":18},{\"surface\":18},{\"surface\":14},{\"surface\":14}],\"bathroomCount\":3,\"bathrooms\":[],\"location\":{\"country\":\"Belgium\",\"region\":\"Brussels\",\"province\":\"Brussels\",\"district\":\"Brussels\",\"locality\":\"Woluwe-Saint-Pierre\",\"postalCode\":\"1150\",\"street\":\"Avenue des Cinq Bonniers\",\"number\":\"51\",\"box\":null,\"propertyName\":null,\"floor\":null,\"latitude\":50.8391674,\"longitude\":4.4303752,\"approximated\":null,\"regionCode\":\"BRUSSELS\",\"type\":null,\"hasSeaView\":null,\"pointsOfInterest\":[{\"type\":\"SCHOOL\",\"distance\":300},{\"type\":\"SHOPS\",\"distance\":250},{\"type\":\"TRANSPORT\",\"distance\":0}],\"placeName\":\"Est de Bruxelles + VL\"},\"netHabitableSurface\":485,\"roomCount\":null,\"attic\":{\"isIsolated\":null,\"isAccessibleWithFixedStairs\":null,\"surface\":null},\"hasAttic\":true,\"basement\":{\"surface\":null},\"hasBasement\":true,\"hasDressingRoom\":null,\"diningRoom\":null,\"hasDiningRoom\":null,\"building\":{\"annexCount\":null,\"condition\":\"AS_NEW\",\"constructionYear\":1967,\"facadeCount\":2,\"floorCount\":null,\"streetFacadeWidth\":12.6},\"propertyCertificates\":null,\"hasCaretakerOrConcierge\":null,\"hasDisabledAccess\":false,\"hasLift\":false,\"constructionPermit\":{\"constructionType\":null,\"floodZoneType\":\"NON_FLOOD_ZONE\",\"isObtained\":null,\"hasObligationToConstruct\":null,\"hasPlotDivisionAuthorization\":true,\"hasPossiblePriorityPurchaseRight\":true,\"isBreachingUrbanPlanningRegulation\":null,\"floodZoneIconUrl\":null,\"totalBuildableGroundFloorSurface\":143,\"urbanPlanningInformation\":null},\"energy\":{\"heatingType\":\"FUELOIL\",\"hasHeatPump\":null,\"hasPhotovoltaicPanels\":null,\"hasThermicPanels\":true,\"hasCollectiveWaterHeater\":null,\"hasDoubleGlazing\":true,\"performance\":null},\"kitchen\":{\"type\":\"HYPER_EQUIPPED\",\"hasOven\":null,\"hasMicroWaveOven\":null,\"hasDishwasher\":null,\"hasWashingMachine\":null,\"hasFridge\":null,\"hasFreezer\":null,\"hasSteamOven\":null,\"surface\":null},\"land\":{\"hasGasWaterElectricityConnection\":false,\"hasPlotToRear\":null,\"isFacingStreet\":null,\"isFlat\":null,\"isWooded\":null,\"landWidth\":null,\"latestUseDesignation\":null,\"rearLand\":null,\"sewerConnection\":\"CONNECTED\",\"surface\":251},\"laundryRoom\":null,\"hasLaundryRoom\":null,\"livingRoom\":{\"surface\":55},\"hasLivingRoom\":true,\"isFirstOccupation\":null,\"hasBalcony\":null,\"hasBarbecue\":null,\"hasGarden\":null,\"gardenSurface\":null,\"gardenOrientation\":null,\"parkingCountIndoor\":1,\"parkingCountOutdoor\":null,\"parkingCountClosedBox\":null,\"hasAirConditioning\":null,\"hasArmoredDoor\":null,\"hasVisiophone\":null,\"hasSecureAccessAlarm\":null,\"hasTVCable\":null,\"hasDoorPhone\":null,\"hasInternet\":null,\"showerRoomCount\":0,\"showerRooms\":[],\"specificities\":{\"internalFixturesAndFittings\":null,\"miscellaneousFixturesAndFittings\":null,\"totalFloorSurface\":null,\"accessDoorCount\":null,\"sectionalDoorCount\":null,\"slidingDoorCount\":null,\"loadingBayCount\":null,\"coveredBaysCount\":null,\"loadingBayWithLiftingDeviceCount\":null,\"ceilingHeight\":null,\"maxAvailableHeight\":null,\"minAvailableHeight\":null,\"showroomSurface\":null,\"hasReceptionDesk\":null,\"shopWindowWidth\":null,\"hasGoodwill\":null,\"goodwillPrice\":null,\"hasOffice\":true,\"office\":{\"surface\":19},\"hasWorkspace\":null,\"workspace\":{\"surface\":120}},\"toiletCount\":4,\"toilets\":[],\"hasFitnessRoom\":null,\"hasTennisCourt\":null,\"hasSwimmingPool\":false,\"hasSauna\":null,\"hasJacuzzi\":null,\"hasHammam\":null,\"bedroomSurface\":null,\"alternativeDescriptions\":{\"fr\":\"Entre la Maison Communale et \\\"La Rasante\\\", spacieuse maison de style classique, proposant de larges espaces, convenant soit \\u00e0 deux logements, soit \\u00e0 un logement et bureau\\/profession lib\\u00e9rale au rez-de-chauss\\u00e9e.  Sa composition : Rez de chauss\\u00e9e : hall d'entr\\u00e9e et premier logement  (S\\u00e9jour, cuisine \\u00e9quip\\u00e9e, une chambre, salle de bains et bureau).  Etages sup\\u00e9rieurs : Second logement : vaste s\\u00e9jour, grande cuisine familiale, avec acc\\u00e8s \\u00e0 une terrasse, 5 chambres \\u00e0 coucher, 2 salles d'eau, biblioth\\u00e8que, family room.  Le sous-sol accueille un vaste garage et diff\\u00e9rentes caves.  PEB : F et G. Pas de jardin !\",\"nl\":\"Entre la Maison Communale et \\\"La Rasante\\\", spacieuse maison de style classique, proposant de larges espaces, convenant soit \\u00e0 deux logements, soit \\u00e0 un logement et bureau\\/profession lib\\u00e9rale au rez-de-chauss\\u00e9e.  Sa composition : Rez de chauss\\u00e9e : hall d'entr\\u00e9e et premier logement  (S\\u00e9jour, cuisine \\u00e9quip\\u00e9e, une chambre, salle de bains et bureau).  Etages sup\\u00e9rieurs : Second logement : vaste s\\u00e9jour, grande cuisine familiale, avec acc\\u00e8s \\u00e0 une terrasse, 5 chambres \\u00e0 coucher, 2 salles d'eau, biblioth\\u00e8que, family room.  Le sous-sol accueille un vaste garage et diff\\u00e9rentes caves.  PEB : F et G.\"},\"habitableUnitCount\":null,\"fireplaceCount\":null,\"fireplaceExists\":false,\"hasTerrace\":true,\"terraceSurface\":16,\"terraceOrientation\":null},\"publication\":{\"creationDate\":\"2020-07-30T02:33:48.000+0000\",\"expirationDate\":\"2020-09-30T21:59:59.000+0000\",\"publisherId\":null,\"visualisationOption\":\"XL\",\"lastModificationDate\":\"2020-07-30T02:33:48.800+0000\"},\"transaction\":{\"type\":\"FOR_SALE\",\"subtype\":\"BUY_REGULAR\",\"availabilityPeriodType\":\"DEPENDING_ON_THE_TENANT\",\"availabilityDate\":\"2000-10-30T00:00:00.000+0000\",\"certificates\":{\"carbonEmission\":138,\"hasElectricalInstallationComplianceCertificate\":null,\"primaryEnergyConsumptionPerSqm\":524,\"primaryEnergyConsumptionYearly\":null,\"epcDescription\":null,\"epcReference\":\"20180831-0000534375-01-7\",\"epcScore\":\"G\",\"epcUrl\":\"https:\\/\\/static.immoweb.be\\/en\\/pics\\/bxlG.gif\"},\"rental\":null,\"sale\":{\"price\":990000,\"vatType\":null,\"cadastralIncome\":5334,\"publicSale\":null,\"pricePerSqm\":null,\"oldPrice\":null,\"lifeAnnuity\":null,\"hasStartingPrice\":null,\"isFurnished\":false,\"homeToBuild\":null},\"investor\":{\"isInvestmentProperty\":false,\"currentMonthlyRentalIncome\":null,\"currentReturnOnInvestment\":null,\"expectedMonthlyRentalIncome\":null,\"expectedMonthlyRentalIncomeDescription\":null,\"expectedReturnOnInvestment\":null,\"habitableUnitCount\":null,\"occupancyRate\":null}},\"priceType\":null,\"price\":{\"type\":\"residential_sale\",\"mainValue\":990000,\"alternativeValue\":null,\"additionalValue\":null,\"oldValue\":null,\"minRangeValue\":null,\"maxRangeValue\":null,\"mainDisplayPrice\":\"\\u20ac990,000\",\"alternativeDisplayPrice\":\"\",\"oldDisplayPrice\":null,\"shortDisplayPrice\":\"990K \\u20ac\",\"accessibilityPrice\":\"990000\\u20ac\",\"label\":\"Price\",\"language\":\"en\"},\"externalReference\":\"4103729\",\"isBookmarked\":false,\"hasSectionsArray\":{\"hasGeneralSection\":true,\"hasInteriorSection\":true,\"hasExteriorSection\":true,\"hasFacilitiesSection\":false,\"hasEnergySection\":true,\"hasPlanningSection\":true,\"hasFinancialSection\":true,\"hasPublicSaleSection\":false},\"unitGroupings\":[],\"displayFlags\":{\"main\":null,\"secondary\":[\"new_construction\"],\"percentSold\":null},\"statistics\":{\"bookmarkCount\":94,\"viewCount\":3815,\"alertPrice\":null,\"creationDate\":null,\"description\":null,\"isAlertEmailSet\":null,\"rating\":null,\"wasOwnerContacted\":null,\"wasPropertyVisited\":null}}\n17243\n"
    }
   ],
   "source": [
    "# import re\n",
    "\n",
    "# d = re.sub(r'^.*{',r'{', re.sub(r'}.*$', r'}',wcs))\n",
    "# print(d)\n",
    "# print(len(d))\n",
    "# print()\n",
    "wcs = wcs[wcs.find(\"{\"):wcs.rfind(\"}\")+1]\n",
    "print(wcs)\n",
    "print(len(wcs))\n",
    "\n"
   ]
  },
  {
   "cell_type": "code",
   "execution_count": 22,
   "metadata": {
    "tags": []
   },
   "outputs": [],
   "source": [
    "import json\n",
    "\n",
    "house_dict = json.loads(wcs)\n",
    "# print(type(house_dict))\n",
    "# print(house_dict)"
   ]
  },
  {
   "cell_type": "code",
   "execution_count": 23,
   "metadata": {
    "tags": []
   },
   "outputs": [
    {
     "output_type": "stream",
     "name": "stdout",
     "text": "locality:  1150\ntype of property:  HOUSE\nsubtype of property:  HOUSE\nprice:  990000\npublic sale ?:  False\npublic sale ?:  None\ninteractive sale ?:  None\n# bedrooms:  6\nliving surface area:  485\ntype of kitchen:  HYPER_EQUIPPED\nfurnished ?:  False\nopen fire ?:  False\nterrace ?:  True\nterrace surface area:  16\ngarden ?:  None\ngarden surface area:  None\nland surface area:  251\n# facades:  2\nswimming pool ?:  False\nstate of building:  AS_NEW\n"
    }
   ],
   "source": [
    "#!!!! features (especially boolean features) sometimes return NoneType objects\n",
    "# => must catch run-time exeptions when using\n",
    "\n",
    "#locality (i.e. postal code) feature\n",
    "#!!! returns a 'str', has to be cast to 'int'\n",
    "house_dict['property']['location']['postalCode']\n",
    "print('locality: ', house_dict['property']['location']['postalCode'])\n",
    "\n",
    "#type of property feature\n",
    "house_dict['property']['type']\n",
    "print('type of property: ', house_dict['property']['type'])\n",
    "\n",
    "#subtype of property feature\n",
    "house_dict['property']['subtype']\n",
    "print('subtype of property: ', house_dict['property']['subtype'])\n",
    "\n",
    "#price feature\n",
    "house_dict['transaction']['sale']['price']\n",
    "print('price: ', house_dict['transaction']['sale']['price'])\n",
    "\n",
    "#type of sale feature\n",
    "#the feature does not exist as this but we can look at several other features to determine it\n",
    "# 1) is it a public sale ?\n",
    "house_dict['flags']['isPublicSale']\n",
    "print('public sale ?: ', house_dict['flags']['isPublicSale'])\n",
    "# 2) is it a notary sale ?\n",
    "house_dict['flags']['isNotarySale']\n",
    "print('public sale ?: ', house_dict['flags']['isNotarySale'])\n",
    "# 3) is it an interactive sale ?\n",
    "house_dict['flags']['isAnInteractiveSale']\n",
    "print('interactive sale ?: ', house_dict['flags']['isAnInteractiveSale'])\n",
    "# 4) life annuity sales are ignored for this project\n",
    "\n",
    "#number of bedrooms feature\n",
    "house_dict['property']['bedroomCount']\n",
    "print('# bedrooms: ', house_dict['property']['bedroomCount'])\n",
    "\n",
    "#living surface area feature\n",
    "house_dict['property']['netHabitableSurface']\n",
    "print('living surface area: ', house_dict['property']['netHabitableSurface'])\n",
    "\n",
    "#type of kitchen feature\n",
    "house_dict['property']['kitchen']['type']\n",
    "print('type of kitchen: ', house_dict['property']['kitchen']['type'])\n",
    "\n",
    "#furnished or not feature\n",
    "house_dict['transaction']['sale']['isFurnished']\n",
    "print('furnished ?: ', house_dict['transaction']['sale']['isFurnished'])\n",
    "\n",
    "#open fire or not feature\n",
    "house_dict['property']['fireplaceExists']\n",
    "print('open fire ?: ', house_dict['property']['fireplaceExists'])\n",
    "\n",
    "#has a terrace or not feature\n",
    "house_dict['property']['hasTerrace']\n",
    "print('terrace ?: ', house_dict['property']['hasTerrace'])\n",
    "\n",
    "#terrace surface area\n",
    "house_dict['property']['terraceSurface']\n",
    "print('terrace surface area: ', house_dict['property']['terraceSurface'])\n",
    "\n",
    "#has a garden or not feature\n",
    "house_dict['property']['hasGarden']\n",
    "print('garden ?: ', house_dict['property']['hasGarden'])\n",
    "\n",
    "#garden surface area\n",
    "house_dict['property']['gardenSurface']\n",
    "print('garden surface area: ', house_dict['property']['gardenSurface'])\n",
    "\n",
    "#land surface area feature (sometimes 'land' key returns a NoneType, we have to test for it before accessing his children)\n",
    "if house_dict['property']['land'] != None:\n",
    "    house_dict['property']['land']['surface']\n",
    "    print('land surface area: ', house_dict['property']['land']['surface'])\n",
    "\n",
    "#number of facades features\n",
    "house_dict['property']['building']['facadeCount']\n",
    "print('# facades: ', house_dict['property']['building']['facadeCount'])\n",
    "\n",
    "#swimming pool or not feature\n",
    "house_dict['property']['hasSwimmingPool']\n",
    "print('swimming pool ?: ', house_dict['property']['hasSwimmingPool'])\n",
    "\n",
    "#state of the building features\n",
    "house_dict['property']['building']['condition']\n",
    "print('state of building: ', house_dict['property']['building']['condition'])\n",
    "\n"
   ]
  },
  {
   "cell_type": "code",
   "execution_count": null,
   "metadata": {},
   "outputs": [],
   "source": []
  }
 ],
 "metadata": {
  "kernelspec": {
   "display_name": "Python 3",
   "language": "python",
   "name": "python3"
  },
  "language_info": {
   "codemirror_mode": {
    "name": "ipython",
    "version": 3
   },
   "file_extension": ".py",
   "mimetype": "text/x-python",
   "name": "python",
   "nbconvert_exporter": "python",
   "pygments_lexer": "ipython3",
   "version": "3.8.2-final"
  }
 },
 "nbformat": 4,
 "nbformat_minor": 4
}